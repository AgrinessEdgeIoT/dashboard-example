{
 "cells": [
  {
   "cell_type": "markdown",
   "metadata": {},
   "source": [
    "# AgroSensor 3.0 - Prototype"
   ]
  },
  {
   "cell_type": "code",
   "execution_count": 1,
   "metadata": {
    "scrolled": false
   },
   "outputs": [
    {
     "data": {
      "text/html": [
       "<script>requirejs.config({paths: { 'plotly': ['https://cdn.plot.ly/plotly-latest.min']},});if(!window.Plotly) {{require(['plotly'],function(plotly) {window.Plotly=plotly;});}}</script>"
      ],
      "text/vnd.plotly.v1+html": [
       "<script>requirejs.config({paths: { 'plotly': ['https://cdn.plot.ly/plotly-latest.min']},});if(!window.Plotly) {{require(['plotly'],function(plotly) {window.Plotly=plotly;});}}</script>"
      ]
     },
     "metadata": {},
     "output_type": "display_data"
    },
    {
     "data": {
      "text/html": [
       "\n",
       "    <!DOCTYPE html>\n",
       "    <html>\n",
       "        <head>\n",
       "            <link href='https://fonts.googleapis.com/css?family=Audiowide' rel='stylesheet'>\n",
       "        </head>\n",
       "        <body>\n",
       "            <div align=\"center\" style=\" font-family: 'Audiowide'\"><h1><img width=\"40px\" src=\"./resources/images/as-small.png\"/>AgroSensor 3 Prototype - The Dashboard</h1> <hr>\n",
       "        </body>\n",
       "    </html>\n"
      ],
      "text/plain": [
       "<IPython.core.display.HTML object>"
      ]
     },
     "metadata": {},
     "output_type": "display_data"
    },
    {
     "data": {
      "application/vnd.jupyter.widget-view+json": {
       "model_id": "4d3c577445074a57815b45ce1eb18b2d",
       "version_major": 2,
       "version_minor": 0
      },
      "text/plain": [
       "Tab(children=(VBox(children=(VBox(children=(HBox(children=(Dropdown(description='Client:  ', layout=Layout(wid…"
      ]
     },
     "metadata": {},
     "output_type": "display_data"
    }
   ],
   "source": [
    "######################### IMPORTS #########################\n",
    "\n",
    "import warnings # Warning control\n",
    "\n",
    "from modules import view\n",
    "from modules.storage import DashDatabase\n",
    "\n",
    "warnings.filterwarnings('ignore')\n",
    "\n",
    "# Starting DashDatabase\n",
    "dashDatabase = DashDatabase('sqlite:///database/sample.sqlite')\n",
    "\n",
    "## Paste your API Token for easy usage:\n",
    "## OBS: Don't share your notebook with your API Token!!!\n",
    "\n",
    "# Starting view\n",
    "view.start(dashDatabase)"
   ]
  }
 ],
 "metadata": {
  "kernelspec": {
   "display_name": "Python 3",
   "language": "python",
   "name": "python3"
  },
  "language_info": {
   "codemirror_mode": {
    "name": "ipython",
    "version": 3
   },
   "file_extension": ".py",
   "mimetype": "text/x-python",
   "name": "python",
   "nbconvert_exporter": "python",
   "pygments_lexer": "ipython3",
   "version": "3.6.5"
  },
  "toc": {
   "base_numbering": 1,
   "nav_menu": {},
   "number_sections": false,
   "sideBar": false,
   "skip_h1_title": false,
   "title_cell": "Table of Contents",
   "title_sidebar": "Contents",
   "toc_cell": false,
   "toc_position": {},
   "toc_section_display": false,
   "toc_window_display": false
  }
 },
 "nbformat": 4,
 "nbformat_minor": 2
}
