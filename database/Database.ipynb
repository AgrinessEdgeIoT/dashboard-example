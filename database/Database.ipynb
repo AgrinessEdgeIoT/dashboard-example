{
 "cells": [
  {
   "cell_type": "markdown",
   "metadata": {},
   "source": [
    "# AgroSensor 3.0 Prototype - Database"
   ]
  },
  {
   "cell_type": "code",
   "execution_count": 2,
   "metadata": {},
   "outputs": [],
   "source": [
    "%defaultDatasource jdbc:sqlite:./database/sample.sqlite"
   ]
  },
  {
   "cell_type": "markdown",
   "metadata": {},
   "source": [
    "## Overview of the schema\n",
    "\n",
    "![title](../resources/images/database-schema.png)"
   ]
  },
  {
   "cell_type": "markdown",
   "metadata": {},
   "source": [
    "### Deleting existent data"
   ]
  },
  {
   "cell_type": "code",
   "execution_count": 7,
   "metadata": {},
   "outputs": [],
   "source": [
    "DELETE FROM clients;\n",
    "DELETE FROM farms;\n",
    "DELETE FROM spots;"
   ]
  },
  {
   "cell_type": "code",
   "execution_count": 8,
   "metadata": {},
   "outputs": [],
   "source": [
    "DELETE FROM devices;\n",
    "DELETE FROM dimensions;"
   ]
  },
  {
   "cell_type": "markdown",
   "metadata": {},
   "source": [
    "### Ensuring tables do not exists"
   ]
  },
  {
   "cell_type": "code",
   "execution_count": 3,
   "metadata": {},
   "outputs": [],
   "source": [
    "DROP TABLE IF EXISTS clients;\n",
    "DROP TABLE IF EXISTS farms;\n",
    "DROP TABLE IF EXISTS spots;\n",
    "DROP TABLE IF EXISTS devices;\n",
    "DROP TABLE IF EXISTS dimensions;"
   ]
  },
  {
   "cell_type": "markdown",
   "metadata": {},
   "source": [
    "## Creating tables and inserting initial data"
   ]
  },
  {
   "cell_type": "markdown",
   "metadata": {},
   "source": [
    "### 1 - Clients"
   ]
  },
  {
   "cell_type": "code",
   "execution_count": 4,
   "metadata": {},
   "outputs": [],
   "source": [
    "CREATE TABLE clients (\n",
    "    id       integer    PRIMARY KEY AUTOINCREMENT,\n",
    "    name     text       NOT NULL,\n",
    "    email    text       NOT NULL  UNIQUE\n",
    ");"
   ]
  },
  {
   "cell_type": "code",
   "execution_count": 5,
   "metadata": {},
   "outputs": [],
   "source": [
    "INSERT INTO clients(name, email) VALUES\n",
    "    ('Asdrubal Dino', \"dino@acme.com\"),\n",
    "    ('Tereza Enzos',  \"t.reza@ig.com\")\n",
    ";"
   ]
  },
  {
   "cell_type": "code",
   "execution_count": 6,
   "metadata": {},
   "outputs": [
    {
     "name": "stdout",
     "output_type": "stream",
     "text": [
      "   id           name          email\n",
      "0   1  Asdrubal Dino  dino@acme.com\n",
      "1   2   Tereza Enzos  t.reza@ig.com\n"
     ]
    }
   ],
   "source": [
    "SELECT * INTO ${clientsTable} FROM clients;\n",
    "\n",
    "%%python\n",
    "from beakerx import beakerx\n",
    "print(beakerx.clientsTable)"
   ]
  },
  {
   "cell_type": "markdown",
   "metadata": {},
   "source": [
    "### 2 - Farms"
   ]
  },
  {
   "cell_type": "code",
   "execution_count": 7,
   "metadata": {},
   "outputs": [],
   "source": [
    "CREATE TABLE farms (\n",
    "    id             integer       PRIMARY KEY AUTOINCREMENT,\n",
    "    name           text          NOT NULL,\n",
    "    description    text              NULL,\n",
    "    owner_id       integer       NOT NULL,\n",
    "    FOREIGN KEY    (owner_id)    REFERENCES clients(id)\n",
    ");"
   ]
  },
  {
   "cell_type": "code",
   "execution_count": 8,
   "metadata": {},
   "outputs": [],
   "source": [
    "INSERT INTO farms(name, owner_id) VALUES  \n",
    "    ('Fazenda Antes Só do que Mal Acompanhado', 1),\n",
    "    ('Rancho Melhor Ser Alegre do que Triste',  1),\n",
    "    ('Fazenda Não Vai Subir Ninguém',           2),\n",
    "    ('Fazenda Água Mole Pedra Dura',            1),\n",
    "    ('Fazenda Pode? Poder, Pode...',            2),\n",
    "    ('Fazenda o Dia Acaba com a Noite',         2)\n",
    ";"
   ]
  },
  {
   "cell_type": "code",
   "execution_count": 9,
   "metadata": {},
   "outputs": [
    {
     "name": "stdout",
     "output_type": "stream",
     "text": [
      "   id                                     name description  owner_id\n",
      "0   1  Fazenda Antes Só do que Mal Acompanhado        None         1\n",
      "1   2   Rancho Melhor Ser Alegre do que Triste        None         1\n",
      "2   3            Fazenda Não Vai Subir Ninguém        None         2\n",
      "3   4             Fazenda Água Mole Pedra Dura        None         1\n",
      "4   5             Fazenda Pode? Poder, Pode...        None         2\n",
      "5   6          Fazenda o Dia Acaba com a Noite        None         2\n"
     ]
    }
   ],
   "source": [
    "SELECT * INTO ${farmsTable} FROM farms;\n",
    "\n",
    "%%python\n",
    "from beakerx import beakerx\n",
    "print(beakerx.farmsTable)"
   ]
  },
  {
   "cell_type": "markdown",
   "metadata": {},
   "source": [
    "### 3 - Spots"
   ]
  },
  {
   "cell_type": "code",
   "execution_count": 10,
   "metadata": {},
   "outputs": [],
   "source": [
    "CREATE TABLE spots (\n",
    "    id             integer      PRIMARY KEY AUTOINCREMENT,\n",
    "    label          text         NOT NULL,\n",
    "    farm_id        integer      NOT NULL,\n",
    "    FOREIGN KEY    (farm_id)    REFERENCES farms(id)     \n",
    ");"
   ]
  },
  {
   "cell_type": "code",
   "execution_count": 11,
   "metadata": {},
   "outputs": [],
   "source": [
    "INSERT INTO spots(label, farm_id) VALUES  \n",
    "    ('Aviário 1',          1),\n",
    "    ('Aviário 1',          2),\n",
    "    ('Aviário A',          3),\n",
    "    ('Aviário lá de cima', 4),\n",
    "    ('Aviário Blue House', 5),\n",
    "    ('Aviário 1',          6),\n",
    "    ('Crechário 1',        1),\n",
    "    ('Crechário 2',        1),\n",
    "    ('Crechário 3',        1)\n",
    ";"
   ]
  },
  {
   "cell_type": "code",
   "execution_count": 12,
   "metadata": {},
   "outputs": [
    {
     "name": "stdout",
     "output_type": "stream",
     "text": [
      "   id               label  farm_id\n",
      "0   1           Aviário 1        1\n",
      "1   2           Aviário 1        2\n",
      "2   3           Aviário A        3\n",
      "3   4  Aviário lá de cima        4\n",
      "4   5  Aviário Blue House        5\n",
      "5   6           Aviário 1        6\n",
      "6   7         Crechário 1        1\n",
      "7   8         Crechário 2        1\n",
      "8   9         Crechário 3        1\n"
     ]
    }
   ],
   "source": [
    "SELECT * INTO ${spotsTable} FROM spots;\n",
    "\n",
    "%%python\n",
    "from beakerx import beakerx\n",
    "print(beakerx.spotsTable)"
   ]
  },
  {
   "cell_type": "markdown",
   "metadata": {},
   "source": [
    "### 4 - Devices"
   ]
  },
  {
   "cell_type": "code",
   "execution_count": 13,
   "metadata": {},
   "outputs": [],
   "source": [
    "CREATE TABLE devices (\n",
    "    edgeid        text        NOT NULL,\n",
    "    client_id     integer     NOT NULL,\n",
    "    farm_id       integer     NOT NULL,\n",
    "    thing_code    integer     NOT NULL,\n",
    "    FOREIGN KEY(client_id)    REFERENCES clients(id),\n",
    "    FOREIGN KEY(farm_id)      REFERENCES farms(id)   \n",
    "    PRIMARY KEY(edgeid, client_id)\n",
    ");"
   ]
  },
  {
   "cell_type": "code",
   "execution_count": 14,
   "metadata": {},
   "outputs": [],
   "source": [
    "INSERT INTO devices(edgeid, client_id, farm_id, thing_code) VALUES\n",
    "    ('2DPEQ572HEXP', 1, 1, 28),\n",
    "    ('3WPH414SRSTZ', 1, 2, 28)\n",
    ";"
   ]
  },
  {
   "cell_type": "code",
   "execution_count": 15,
   "metadata": {},
   "outputs": [
    {
     "name": "stdout",
     "output_type": "stream",
     "text": [
      "         edgeid  client_id  farm_id  thing_code\n",
      "0  2DPEQ572HEXP          1        1          28\n",
      "1  3WPH414SRSTZ          1        2          28\n"
     ]
    }
   ],
   "source": [
    "SELECT * INTO ${devicesTable} FROM devices;\n",
    "\n",
    "%%python\n",
    "from beakerx import beakerx\n",
    "print(beakerx.devicesTable)"
   ]
  },
  {
   "cell_type": "markdown",
   "metadata": {},
   "source": [
    "### 5 - Dimensions"
   ]
  },
  {
   "cell_type": "code",
   "execution_count": 16,
   "metadata": {},
   "outputs": [],
   "source": [
    "CREATE TABLE dimensions (\n",
    "    --id             integer      NOT NULL,\n",
    "    edgeid           text         NOT NULL,\n",
    "    port             integer      NOT NULL,\n",
    "    sensor           integer      NOT NULL,\n",
    "    dimension        integer      NOT NULL,\n",
    "    spot_id          integer      NOT NULL,\n",
    "    ts_from          integer      NOT NULL,\n",
    "    ts_to            integer          NULL,\n",
    "    last_value       float        NOT NULL,\n",
    "    last_value_ts    float        NOT NULL,    \n",
    "    FOREIGN KEY      (spot_id)    REFERENCES spots(id)    \n",
    "    FOREIGN KEY      (edgeid)     REFERENCES devices(edgeid)    \n",
    "    PRIMARY KEY      (edgeid, port, sensor, spot_id)\n",
    ");"
   ]
  },
  {
   "cell_type": "code",
   "execution_count": 17,
   "metadata": {},
   "outputs": [],
   "source": [
    "INSERT INTO \n",
    "dimensions(edgeid        ,port,sensor,dimension,spot_id,ts_from,ts_to,last_value,last_value_ts) VALUES  \n",
    "          ('2DPEQ572HEXP',   4,     1,        1,      1,      0, null,     12345,1535745710000),\n",
    "          ('2DPEQ572HEXP',   4,     2,        3,      1,      0, null,     12345,1535745710000),\n",
    "          ('2DPEQ572HEXP',   5,     1,        1,      1,      0, null,     12345,1535745710000),\n",
    "          ('2DPEQ572HEXP',   5,     2,        3,      1,      0, null,     12345,1535745710000)\n",
    ";"
   ]
  },
  {
   "cell_type": "code",
   "execution_count": 18,
   "metadata": {},
   "outputs": [
    {
     "name": "stdout",
     "output_type": "stream",
     "text": [
      "         edgeid  port  sensor  dimension  spot_id  ts_from ts_to  last_value  \\\n",
      "0  2DPEQ572HEXP     4       1          1        1        0  None     12345.0   \n",
      "1  2DPEQ572HEXP     4       2          3        1        0  None     12345.0   \n",
      "2  2DPEQ572HEXP     5       1          1        1        0  None     12345.0   \n",
      "3  2DPEQ572HEXP     5       2          3        1        0  None     12345.0   \n",
      "\n",
      "   last_value_ts  \n",
      "0   1.535746e+12  \n",
      "1   1.535746e+12  \n",
      "2   1.535746e+12  \n",
      "3   1.535746e+12  \n"
     ]
    }
   ],
   "source": [
    "SELECT * INTO ${dimensionsTable} FROM dimensions;\n",
    "\n",
    "%%python\n",
    "from beakerx import beakerx\n",
    "print(beakerx.dimensionsTable)"
   ]
  }
 ],
 "metadata": {
  "kernelspec": {
   "display_name": "SQL",
   "language": "SQL",
   "name": "sql"
  },
  "language_info": {
   "codemirror_mode": "sql",
   "file_extension": ".sql",
   "mimetype": "",
   "name": "SQL",
   "nbconverter_exporter": "",
   "version": ""
  }
 },
 "nbformat": 4,
 "nbformat_minor": 2
}
